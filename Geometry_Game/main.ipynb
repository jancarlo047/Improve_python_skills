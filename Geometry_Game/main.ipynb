{
 "cells": [
  {
   "cell_type": "markdown",
   "metadata": {},
   "source": [
    "We ar gonna start define an object and we create an object using the class:"
   ]
  },
  {
   "cell_type": "code",
   "execution_count": 3,
   "metadata": {},
   "outputs": [],
   "source": [
    "class Point:\n",
    "    \n",
    "    def __init__(self, x, y):\n",
    "        self.x=x\n",
    "        self.y=y\n",
    "    def falls_in_rectangle(self,rectangle):\n",
    "        if rectangle.lowleft.x <self.x < rectangle.upright.x \\\n",
    "        and rectangle.lowleft.y < self.y < rectangle.upright.y:\n",
    "            return True\n",
    "        else:\n",
    "            return False\n",
    "    def distance_from_point(self,point):\n",
    "        return ((self.x-point.x)**2+(self.y-point.y)**2)**0.5"
   ]
  },
  {
   "cell_type": "code",
   "execution_count": 4,
   "metadata": {},
   "outputs": [],
   "source": [
    "class Rectangle:\n",
    "\n",
    "    def __init__(self,point1,point2):\n",
    "        self.point1 =point1\n",
    "        self.point2 =point2\n",
    "    def area(self):\n",
    "        return (self.point2.x-self.point1.x)*\\\n",
    "            (self.point2.y-self.point1.y)"
   ]
  },
  {
   "cell_type": "code",
   "execution_count": null,
   "metadata": {},
   "outputs": [],
   "source": [
    "from random import randint\n",
    "\n",
    "rectangle=Rectangle(\n",
    "    Point(randint(0,9),randint(0,9)),\n",
    "    Point(randint(10,19),randint(10,19))\n",
    ")\n",
    "\n",
    "print('Rectangle Coordinates: ',\n",
    "      rectangle.lowleft.x, ',',\n",
    "      rectangle.lowleft.y, \"and\",\n",
    "      rectangle.upright.x, ',',\n",
    "      rectangle.upright.y\n",
    "      )\n",
    "\n",
    "user_point=Point(float(input(\"Guess X: \")),\n",
    "                 float(input(\"Guess Y: \")))\n",
    "\n",
    "user_area=float(input(\"Guess rectangle area: \"))\n",
    "\n",
    "print(\"Your point was inside rectangle: \",\n",
    "      user_point.falls_in_rectangle(rectangle))\n",
    "\n",
    "print(\"Your area was off by: \",\n",
    "      rectangle.area()-user_area)"
   ]
  },
  {
   "cell_type": "code",
   "execution_count": 34,
   "metadata": {},
   "outputs": [],
   "source": [
    "point1=Point(10,20)\n",
    "point2=Point(3,4)"
   ]
  },
  {
   "cell_type": "code",
   "execution_count": 36,
   "metadata": {},
   "outputs": [
    {
     "data": {
      "text/plain": [
       "17.46424919657298"
      ]
     },
     "execution_count": 36,
     "metadata": {},
     "output_type": "execute_result"
    }
   ],
   "source": [
    "point1.distance_from_point(point2)"
   ]
  },
  {
   "cell_type": "code",
   "execution_count": 4,
   "metadata": {},
   "outputs": [
    {
     "data": {
      "text/plain": [
       "geometry.PPoint"
      ]
     },
     "execution_count": 4,
     "metadata": {},
     "output_type": "execute_result"
    }
   ],
   "source": [
    "from geometry import PPoint\n",
    "point2=PPoint(100,200)\n",
    "type(point2)"
   ]
  },
  {
   "cell_type": "code",
   "execution_count": 37,
   "metadata": {},
   "outputs": [],
   "source": [
    "pointx=Point(6,7)\n",
    "rectanglex=Rectangle(point2,point1)"
   ]
  },
  {
   "cell_type": "code",
   "execution_count": 38,
   "metadata": {},
   "outputs": [
    {
     "data": {
      "text/plain": [
       "True"
      ]
     },
     "execution_count": 38,
     "metadata": {},
     "output_type": "execute_result"
    }
   ],
   "source": [
    "pointx.falls_in_rectangle(rectanglex)"
   ]
  },
  {
   "cell_type": "code",
   "execution_count": 7,
   "metadata": {},
   "outputs": [
    {
     "name": "stdout",
     "output_type": "stream",
     "text": [
      "Rectangle Coordinates:  9 , 2 and 15 , 15\n",
      "Your point was inside rectangle:  False\n",
      "Your area was off by:  70.0\n"
     ]
    }
   ],
   "source": []
  },
  {
   "cell_type": "code",
   "execution_count": 6,
   "metadata": {},
   "outputs": [
    {
     "name": "stdout",
     "output_type": "stream",
     "text": [
      "Your point was inside rectangle:  False\n"
     ]
    }
   ],
   "source": [
    "user_point=Point(float(input(\"Guess X: \")),\n",
    "                 float(input(\"Guess Y: \")))\n",
    "\n",
    "print(\"Your point was inside rectangle: \",\n",
    "      user_point.falls_in_rectangle(rectangle))"
   ]
  },
  {
   "cell_type": "code",
   "execution_count": 1,
   "metadata": {},
   "outputs": [
    {
     "name": "stdout",
     "output_type": "stream",
     "text": [
      "5.0\n"
     ]
    }
   ],
   "source": [
    "valueInp=float(input(\"Introduce un valor numerico\"))\n",
    "print(valueInp)"
   ]
  },
  {
   "cell_type": "code",
   "execution_count": null,
   "metadata": {},
   "outputs": [],
   "source": []
  }
 ],
 "metadata": {
  "kernelspec": {
   "display_name": "Python 3",
   "language": "python",
   "name": "python3"
  },
  "language_info": {
   "codemirror_mode": {
    "name": "ipython",
    "version": 3
   },
   "file_extension": ".py",
   "mimetype": "text/x-python",
   "name": "python",
   "nbconvert_exporter": "python",
   "pygments_lexer": "ipython3",
   "version": "3.12.1"
  }
 },
 "nbformat": 4,
 "nbformat_minor": 2
}
